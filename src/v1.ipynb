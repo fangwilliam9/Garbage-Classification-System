{
 "cells": [
  {
   "cell_type": "markdown",
   "id": "ad3a1fb1-53b9-4c79-b8c7-945c0062ba51",
   "metadata": {},
   "source": [
    "## 自动加载数据集"
   ]
  },
  {
   "cell_type": "code",
   "execution_count": 1,
   "id": "f4f66b7e-cf7b-41f1-ba36-aa0c28143f8c",
   "metadata": {},
   "outputs": [
    {
     "name": "stdout",
     "output_type": "stream",
     "text": [
      "Found 2527 files belonging to 6 classes.\n",
      "Using 2022 files for training.\n",
      "Found 2527 files belonging to 6 classes.\n",
      "Using 505 files for validation.\n",
      "类别索引映射: ['cardboard', 'glass', 'metal', 'paper', 'plastic', 'trash']\n"
     ]
    }
   ],
   "source": [
    "import tensorflow as tf\n",
    "import os\n",
    "\n",
    "# 定义数据集路径\n",
    "dataset_path = \"../dataset/Garbage classification/Garbage classification\"  # 根据你的实际路径调整\n",
    "img_size = (224, 224)  # 目标图像大小\n",
    "batch_size = 32  # 你可以调整 batch_size,\n",
    "\n",
    "# 直接从文件夹中加载数据，并自动划分训练/验证集\n",
    "train_dataset = tf.keras.utils.image_dataset_from_directory(\n",
    "    dataset_path,\n",
    "    validation_split=0.2,  # 20% 作为验证集\n",
    "    subset=\"training\",\n",
    "    seed=123,  # 设定随机种子，保证每次划分一致\n",
    "    image_size=img_size,\n",
    "    batch_size=batch_size\n",
    ")\n",
    "\n",
    "val_dataset = tf.keras.utils.image_dataset_from_directory(\n",
    "    dataset_path,\n",
    "    validation_split=0.2,\n",
    "    subset=\"validation\",\n",
    "    seed=123,\n",
    "    image_size=img_size,\n",
    "    batch_size=batch_size\n",
    ")\n",
    "\n",
    "# 打印类别索引映射\n",
    "class_names = train_dataset.class_names\n",
    "print(f\"类别索引映射: {class_names}\")\n",
    "\n",
    "# 预处理（标准化）\n",
    "normalization_layer = tf.keras.layers.Rescaling(1./255)\n",
    "train_dataset = train_dataset.map(lambda x, y: (normalization_layer(x), y))\n",
    "val_dataset = val_dataset.map(lambda x, y: (normalization_layer(x), y))\n"
   ]
  },
  {
   "cell_type": "markdown",
   "id": "c009432e-3df1-45d1-ba69-9606b86fbda5",
   "metadata": {},
   "source": [
    "## 使用 MobileNetV2 进行训练"
   ]
  },
  {
   "cell_type": "code",
   "execution_count": 2,
   "id": "de78b441-eabc-4c78-b6a7-86b59c2398cf",
   "metadata": {},
   "outputs": [
    {
     "name": "stdout",
     "output_type": "stream",
     "text": [
      "Epoch 1/10\n",
      "\u001b[1m64/64\u001b[0m \u001b[32m━━━━━━━━━━━━━━━━━━━━\u001b[0m\u001b[37m\u001b[0m \u001b[1m44s\u001b[0m 610ms/step - accuracy: 0.5736 - loss: 1.1452 - val_accuracy: 0.7960 - val_loss: 0.5522\n",
      "Epoch 2/10\n",
      "\u001b[1m64/64\u001b[0m \u001b[32m━━━━━━━━━━━━━━━━━━━━\u001b[0m\u001b[37m\u001b[0m \u001b[1m39s\u001b[0m 611ms/step - accuracy: 0.8472 - loss: 0.4590 - val_accuracy: 0.7644 - val_loss: 0.5918\n",
      "Epoch 3/10\n",
      "\u001b[1m64/64\u001b[0m \u001b[32m━━━━━━━━━━━━━━━━━━━━\u001b[0m\u001b[37m\u001b[0m \u001b[1m39s\u001b[0m 605ms/step - accuracy: 0.8952 - loss: 0.3195 - val_accuracy: 0.8198 - val_loss: 0.4795\n",
      "Epoch 4/10\n",
      "\u001b[1m64/64\u001b[0m \u001b[32m━━━━━━━━━━━━━━━━━━━━\u001b[0m\u001b[37m\u001b[0m \u001b[1m39s\u001b[0m 604ms/step - accuracy: 0.9355 - loss: 0.2255 - val_accuracy: 0.8337 - val_loss: 0.4976\n",
      "Epoch 5/10\n",
      "\u001b[1m64/64\u001b[0m \u001b[32m━━━━━━━━━━━━━━━━━━━━\u001b[0m\u001b[37m\u001b[0m \u001b[1m39s\u001b[0m 607ms/step - accuracy: 0.9588 - loss: 0.1583 - val_accuracy: 0.8297 - val_loss: 0.5032\n",
      "Epoch 6/10\n",
      "\u001b[1m64/64\u001b[0m \u001b[32m━━━━━━━━━━━━━━━━━━━━\u001b[0m\u001b[37m\u001b[0m \u001b[1m40s\u001b[0m 624ms/step - accuracy: 0.9784 - loss: 0.1033 - val_accuracy: 0.8337 - val_loss: 0.5062\n",
      "Epoch 7/10\n",
      "\u001b[1m64/64\u001b[0m \u001b[32m━━━━━━━━━━━━━━━━━━━━\u001b[0m\u001b[37m\u001b[0m \u001b[1m41s\u001b[0m 635ms/step - accuracy: 0.9841 - loss: 0.0815 - val_accuracy: 0.8455 - val_loss: 0.5068\n",
      "Epoch 8/10\n",
      "\u001b[1m64/64\u001b[0m \u001b[32m━━━━━━━━━━━━━━━━━━━━\u001b[0m\u001b[37m\u001b[0m \u001b[1m40s\u001b[0m 615ms/step - accuracy: 0.9938 - loss: 0.0498 - val_accuracy: 0.8455 - val_loss: 0.5273\n",
      "Epoch 9/10\n",
      "\u001b[1m64/64\u001b[0m \u001b[32m━━━━━━━━━━━━━━━━━━━━\u001b[0m\u001b[37m\u001b[0m \u001b[1m40s\u001b[0m 623ms/step - accuracy: 0.9985 - loss: 0.0343 - val_accuracy: 0.8455 - val_loss: 0.5304\n",
      "Epoch 10/10\n",
      "\u001b[1m64/64\u001b[0m \u001b[32m━━━━━━━━━━━━━━━━━━━━\u001b[0m\u001b[37m\u001b[0m \u001b[1m41s\u001b[0m 641ms/step - accuracy: 0.9984 - loss: 0.0250 - val_accuracy: 0.8475 - val_loss: 0.5428\n"
     ]
    }
   ],
   "source": [
    "from tensorflow.keras.applications import MobileNetV2\n",
    "from tensorflow.keras.layers import Dense, GlobalAveragePooling2D\n",
    "from tensorflow.keras.models import Model\n",
    "\n",
    "# 加载预训练模型\n",
    "base_model = MobileNetV2(input_shape=(224, 224, 3), include_top=False, weights=\"imagenet\")\n",
    "base_model.trainable = False  # 冻结预训练权重\n",
    "\n",
    "# 添加分类层\n",
    "x = base_model.output\n",
    "x = GlobalAveragePooling2D()(x)\n",
    "x = Dense(128, activation=\"relu\")(x)\n",
    "output = Dense(len(class_names), activation=\"softmax\")(x)\n",
    "\n",
    "# 构建模型\n",
    "model = Model(inputs=base_model.input, outputs=output)\n",
    "model.compile(optimizer=\"adam\", loss=\"sparse_categorical_crossentropy\", metrics=[\"accuracy\"])\n",
    "\n",
    "# 训练模型\n",
    "history = model.fit(train_dataset, validation_data=val_dataset, epochs=10)"
   ]
  }
 ],
 "metadata": {
  "kernelspec": {
   "display_name": "Python 3 (ipykernel)",
   "language": "python",
   "name": "python3"
  },
  "language_info": {
   "codemirror_mode": {
    "name": "ipython",
    "version": 3
   },
   "file_extension": ".py",
   "mimetype": "text/x-python",
   "name": "python",
   "nbconvert_exporter": "python",
   "pygments_lexer": "ipython3",
   "version": "3.12.3"
  }
 },
 "nbformat": 4,
 "nbformat_minor": 5
}
