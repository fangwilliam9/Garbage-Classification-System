{
 "cells": [
  {
   "cell_type": "code",
   "execution_count": 5,
   "id": "501802bb-b963-4e2c-973a-dc3729d87d37",
   "metadata": {},
   "outputs": [
    {
     "name": "stdout",
     "output_type": "stream",
     "text": [
      " * Serving Flask app '__main__'\n",
      " * Debug mode: on\n"
     ]
    },
    {
     "name": "stderr",
     "output_type": "stream",
     "text": [
      "WARNING: This is a development server. Do not use it in a production deployment. Use a production WSGI server instead.\n",
      " * Running on http://127.0.0.1:5001\n",
      "Press CTRL+C to quit\n",
      " * Restarting with watchdog (windowsapi)\n"
     ]
    },
    {
     "ename": "SystemExit",
     "evalue": "1",
     "output_type": "error",
     "traceback": [
      "An exception has occurred, use %tb to see the full traceback.\n",
      "\u001b[1;31mSystemExit\u001b[0m\u001b[1;31m:\u001b[0m 1\n"
     ]
    }
   ],
   "source": [
    "import os\n",
    "import numpy as np\n",
    "import tensorflow as tf\n",
    "from flask import Flask, request, jsonify, render_template\n",
    "from werkzeug.utils import secure_filename\n",
    "from tensorflow.keras.preprocessing.image import load_img, img_to_array\n",
    "\n",
    "# 初始化 Flask 应用\n",
    "app = Flask(__name__)\n",
    "\n",
    "# 设置上传文件夹\n",
    "UPLOAD_FOLDER = 'uploads'\n",
    "app.config['UPLOAD_FOLDER'] = UPLOAD_FOLDER\n",
    "\n",
    "# 确保上传目录存在\n",
    "if not os.path.exists(UPLOAD_FOLDER):\n",
    "    os.makedirs(UPLOAD_FOLDER)\n",
    "\n",
    "# 载入训练好的模型\n",
    "MODEL_PATH = \"model_vgg16.keras\"  # 你的模型路径\n",
    "# 载入模型，不加载优化器\n",
    "model = tf.keras.models.load_model(MODEL_PATH, compile=False)\n",
    "# 重新编译模型\n",
    "model.compile(optimizer='adam', loss='categorical_crossentropy', metrics=['accuracy'])\n",
    "\n",
    "# 定义类别标签\n",
    "class_labels = ['cardboard', 'glass', 'metal', 'paper', 'plastic', 'trash']\n",
    "\n",
    "# 处理图片上传并进行预测\n",
    "@app.route('/', methods=['GET', 'POST'])\n",
    "def upload_file():\n",
    "    if request.method == 'POST':\n",
    "        # 获取上传文件\n",
    "        file = request.files['file']\n",
    "        if file:\n",
    "            filename = secure_filename(file.filename)\n",
    "            filepath = os.path.join(app.config['UPLOAD_FOLDER'], filename)\n",
    "            file.save(filepath)\n",
    "            \n",
    "            # 进行预测\n",
    "            img = load_img(filepath, target_size=(224, 224))  # 确保图片大小匹配模型输入\n",
    "            img_array = img_to_array(img) / 255.0  # 归一化\n",
    "            img_array = np.expand_dims(img_array, axis=0)  # 增加 batch 维度\n",
    "            \n",
    "            predictions = model.predict(img_array)\n",
    "            predicted_class = class_labels[np.argmax(predictions)]\n",
    "            confidence = round(100 * np.max(predictions), 2)\n",
    "            \n",
    "            return jsonify({'class': predicted_class, 'confidence': confidence})\n",
    "    \n",
    "    return render_template('index.html')\n",
    "\n",
    "if __name__ == '__main__':\n",
    "    app.run(debug=True, port=5001)\n",
    "\n"
   ]
  }
 ],
 "metadata": {
  "kernelspec": {
   "display_name": "Python 3 (ipykernel)",
   "language": "python",
   "name": "python3"
  },
  "language_info": {
   "codemirror_mode": {
    "name": "ipython",
    "version": 3
   },
   "file_extension": ".py",
   "mimetype": "text/x-python",
   "name": "python",
   "nbconvert_exporter": "python",
   "pygments_lexer": "ipython3",
   "version": "3.12.3"
  }
 },
 "nbformat": 4,
 "nbformat_minor": 5
}
