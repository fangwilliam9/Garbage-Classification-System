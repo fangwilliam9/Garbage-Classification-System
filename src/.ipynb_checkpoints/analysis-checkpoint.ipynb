{
 "cells": [
  {
   "cell_type": "code",
   "execution_count": 1,
   "id": "f72fb10d-8574-493d-a71b-c288963dd4e7",
   "metadata": {},
   "outputs": [],
   "source": [
    "import numpy as np\n",
    "import pandas as pd\n",
    "import re\n",
    "import os\n",
    "import time\n",
    "import numpy as np\n",
    "import tensorflow as tf\n",
    "from tensorflow.keras.preprocessing.image import ImageDataGenerator,load_img, img_to_array\n",
    "from sklearn.metrics import accuracy_score, precision_score, recall_score, f1_score, confusion_matrix, classification_report\n",
    "import matplotlib.pyplot as plt\n",
    "import seaborn as sns"
   ]
  },
  {
   "cell_type": "code",
   "execution_count": 2,
   "id": "0a5a3738-1f88-4e0d-920c-948c8ae61f4a",
   "metadata": {},
   "outputs": [],
   "source": [
    "## Loading the dataset"
   ]
  },
  {
   "cell_type": "code",
   "execution_count": 3,
   "id": "f5500eaa-9eaa-48ca-b820-137a42ff1d9c",
   "metadata": {},
   "outputs": [
    {
     "name": "stdout",
     "output_type": "stream",
     "text": [
      "Found 1768 training, 328 validation and 328 samples.\n"
     ]
    },
    {
     "name": "stderr",
     "output_type": "stream",
     "text": [
      "<>:3: SyntaxWarning: invalid escape sequence '\\d'\n",
      "<>:3: SyntaxWarning: invalid escape sequence '\\d'\n",
      "C:\\Users\\fangw\\AppData\\Local\\Temp\\ipykernel_7028\\267473665.py:3: SyntaxWarning: invalid escape sequence '\\d'\n",
      "  df[col_name] = df[col_name].apply(lambda x: x[:re.search(\"\\d\",x).start()] + '/' + x)\n"
     ]
    }
   ],
   "source": [
    "# Add class name prefix to each path based on class name include in filename\n",
    "def add_class_name_prefix(df, col_name):\n",
    "    df[col_name] = df[col_name].apply(lambda x: x[:re.search(\"\\d\",x).start()] + '/' + x)\n",
    "    return df\n",
    "\n",
    "\n",
    "def class_id_to_label(id):\n",
    "    label_map = {1: 'glass', 2: 'paper', 3: 'cardboard', 4: 'plastic', 5: 'metal', 6: 'trash'}\n",
    "    return label_map[id]\n",
    "    \n",
    "\n",
    "IMAGES_DIR = '../dataset/Garbage classification/Garbage classification'\n",
    "    \n",
    "train_file = '../dataset/one-indexed-files-notrash_train.txt'\n",
    "val_file   = '../dataset/one-indexed-files-notrash_val.txt'\n",
    "test_file  = '../dataset/one-indexed-files-notrash_test.txt'\n",
    "\n",
    "df_train = pd.read_csv(train_file, sep=' ', header=None, names=['path', 'label'])\n",
    "df_valid = pd.read_csv(val_file,   sep=' ', header=None, names=['path', 'label'])\n",
    "df_test  = pd.read_csv(val_file,   sep=' ', header=None, names=['path', 'label'])\n",
    "\n",
    "df_train = add_class_name_prefix(df_train, 'path')\n",
    "df_valid = add_class_name_prefix(df_valid, 'path')\n",
    "df_test  = add_class_name_prefix(df_test,  'path')\n",
    "\n",
    "df_train['label'] = df_train['label'].apply(class_id_to_label)\n",
    "df_valid['label'] = df_valid['label'].apply(class_id_to_label)\n",
    "df_test['label']  = df_test['label'].apply(class_id_to_label)\n",
    "\n",
    "print(f'Found {len(df_train)} training, {len(df_valid)} validation and {len(df_test)} samples.')"
   ]
  },
  {
   "cell_type": "code",
   "execution_count": 4,
   "id": "7a0225d8-6f62-499c-a011-577c5c6ad1ab",
   "metadata": {},
   "outputs": [],
   "source": [
    "## Image Preprocessing"
   ]
  },
  {
   "cell_type": "code",
   "execution_count": 5,
   "id": "f8e3052a-1f88-4ed2-a51f-be17cf363846",
   "metadata": {},
   "outputs": [
    {
     "name": "stdout",
     "output_type": "stream",
     "text": [
      "Found 1768 validated image filenames belonging to 6 classes.\n",
      "Found 328 validated image filenames belonging to 6 classes.\n",
      "Found 328 validated image filenames belonging to 6 classes.\n"
     ]
    }
   ],
   "source": [
    "# ImageDataGenerator: For data preprocessing\n",
    "# flow_from_dataframe: Takes the Pandas DataFrame and the path to a directory and generates batches of augmented/normalized data\n",
    "\n",
    "gen = ImageDataGenerator(rescale=1./255)    # rescaling the images between 0 and 1\n",
    "\n",
    "gen_train = gen.flow_from_dataframe(\n",
    "    dataframe=df_train,\n",
    "    directory=IMAGES_DIR,\n",
    "    x_col='path',\n",
    "    y_col='label',\n",
    "    color_mode=\"rgb\",\n",
    "    class_mode=\"categorical\",\n",
    "    batch_size=32,\n",
    "    shuffle=True\n",
    ")\n",
    "\n",
    "gen_valid = gen.flow_from_dataframe(\n",
    "    dataframe=df_valid,\n",
    "    directory=IMAGES_DIR,\n",
    "    x_col='path',\n",
    "    y_col='label',\n",
    "    color_mode=\"rgb\",\n",
    "    class_mode=\"categorical\",\n",
    "    batch_size=32,\n",
    "    shuffle=True\n",
    ")\n",
    "\n",
    "test_gen = gen.flow_from_dataframe(\n",
    "    dataframe=df_test,\n",
    "    directory=IMAGES_DIR,\n",
    "    x_col='path',\n",
    "    y_col='label',\n",
    "    color_mode=\"rgb\",\n",
    "    class_mode=\"categorical\",\n",
    "    batch_size=32,\n",
    "    shuffle=False\n",
    ")"
   ]
  },
  {
   "cell_type": "code",
   "execution_count": 6,
   "id": "93643173-9d88-4bab-b5f3-fb529f89dd04",
   "metadata": {},
   "outputs": [
    {
     "name": "stdout",
     "output_type": "stream",
     "text": [
      "Found 328 validated image filenames belonging to 6 classes.\n"
     ]
    }
   ],
   "source": [
    "# =========================\n",
    "# 1. 加载模型 & 测试数据\n",
    "# =========================\n",
    "MODEL_PATH = \"model_vgg16.keras\"  # 你的模型文件路径\n",
    "model = tf.keras.models.load_model(MODEL_PATH, compile=False)\n",
    "model.compile(optimizer='adam', loss='categorical_crossentropy', metrics=['accuracy'])\n",
    "\n",
    "\n",
    "gen = ImageDataGenerator(rescale=1./255)    # rescaling the images between 0 and 1\n",
    "\n",
    "# 你的测试数据生成器（确保你已经正确设置 test_gen）\n",
    "test_gen = gen.flow_from_dataframe(\n",
    "    dataframe=df_test,  # 你的测试数据集\n",
    "    directory=IMAGES_DIR,\n",
    "    x_col='path',\n",
    "    y_col='label',\n",
    "    color_mode=\"rgb\",\n",
    "    class_mode=\"categorical\",\n",
    "    batch_size=32,\n",
    "    shuffle=False\n",
    ")"
   ]
  },
  {
   "cell_type": "code",
   "execution_count": 7,
   "id": "d2e2da43-7913-48ee-ae26-9afb05c0eb47",
   "metadata": {},
   "outputs": [
    {
     "name": "stderr",
     "output_type": "stream",
     "text": [
      "C:\\Users\\fangw\\AppData\\Roaming\\Python\\Python312\\site-packages\\keras\\src\\trainers\\data_adapters\\py_dataset_adapter.py:121: UserWarning: Your `PyDataset` class should call `super().__init__(**kwargs)` in its constructor. `**kwargs` can include `workers`, `use_multiprocessing`, `max_queue_size`. Do not pass these arguments to `fit()`, as they will be ignored.\n",
      "  self._warn_if_super_not_called()\n"
     ]
    },
    {
     "name": "stdout",
     "output_type": "stream",
     "text": [
      "\u001b[1m11/11\u001b[0m \u001b[32m━━━━━━━━━━━━━━━━━━━━\u001b[0m\u001b[37m\u001b[0m \u001b[1m29s\u001b[0m 3s/step\n",
      "\n",
      "=== 模型分类性能 ===\n",
      "准确率 (Accuracy): 0.7744\n",
      "精确率 (Precision): 0.7846\n",
      "召回率 (Recall): 0.7744\n",
      "F1 分数 (F1-score): 0.7706\n",
      "\n",
      "=== 详细分类报告 ===\n",
      "              precision    recall  f1-score   support\n",
      "\n",
      "   cardboard       0.81      0.91      0.86        46\n",
      "       glass       0.64      0.88      0.74        65\n",
      "       metal       0.76      0.66      0.70        56\n",
      "       paper       0.89      0.87      0.88        83\n",
      "     plastic       0.83      0.64      0.72        61\n",
      "       trash       0.70      0.41      0.52        17\n",
      "\n",
      "    accuracy                           0.77       328\n",
      "   macro avg       0.77      0.73      0.74       328\n",
      "weighted avg       0.78      0.77      0.77       328\n",
      "\n"
     ]
    }
   ],
   "source": [
    "# =========================\n",
    "# 2. 计算分类性能\n",
    "# =========================\n",
    "# 获取真实标签\n",
    "y_true = test_gen.classes\n",
    "y_pred_prob = model.predict(test_gen)  # 获取预测概率\n",
    "y_pred = np.argmax(y_pred_prob, axis=1)  # 获取预测类别\n",
    "\n",
    "# 计算指标\n",
    "accuracy = accuracy_score(y_true, y_pred)\n",
    "precision = precision_score(y_true, y_pred, average='weighted')\n",
    "recall = recall_score(y_true, y_pred, average='weighted')\n",
    "f1 = f1_score(y_true, y_pred, average='weighted')\n",
    "\n",
    "print(\"\\n=== 模型分类性能 ===\")\n",
    "print(f\"准确率 (Accuracy): {accuracy:.4f}\")\n",
    "print(f\"精确率 (Precision): {precision:.4f}\")\n",
    "print(f\"召回率 (Recall): {recall:.4f}\")\n",
    "print(f\"F1 分数 (F1-score): {f1:.4f}\")\n",
    "\n",
    "# 生成分类报告\n",
    "print(\"\\n=== 详细分类报告 ===\")\n",
    "print(classification_report(y_true, y_pred, target_names=test_gen.class_indices.keys()))\n"
   ]
  },
  {
   "cell_type": "code",
   "execution_count": 8,
   "id": "77aa3409-1c2a-4c4b-a74b-ac39ff829c05",
   "metadata": {},
   "outputs": [
    {
     "data": {
      "image/png": "[encoded data removed]",
      "text/plain": [
       "<Figure size 800x600 with 2 Axes>"
      ]
     },
     "metadata": {},
     "output_type": "display_data"
    }
   ],
   "source": [
    "# =========================\n",
    "# 3. 绘制混淆矩阵\n",
    "# =========================\n",
    "cm = confusion_matrix(y_true, y_pred)\n",
    "plt.figure(figsize=(8,6))\n",
    "sns.heatmap(cm, annot=True, fmt=\"d\", cmap=\"Blues\",\n",
    "            xticklabels=test_gen.class_indices.keys(),\n",
    "            yticklabels=test_gen.class_indices.keys())\n",
    "plt.xlabel('Predicted Label')\n",
    "plt.ylabel('True Label')\n",
    "plt.title('Confusion Matrix')\n",
    "plt.savefig(\"confusion_matrix.png\")  # 保存混淆矩阵图像\n",
    "plt.show()"
   ]
  },
  {
   "cell_type": "code",
   "execution_count": 9,
   "id": "cf0b2a46-f369-48f1-970b-3e7c1ef4a847",
   "metadata": {},
   "outputs": [
    {
     "name": "stdout",
     "output_type": "stream",
     "text": [
      "\n",
      "=== 模型大小 ===\n",
      "Model Size: 62.30 MB\n"
     ]
    }
   ],
   "source": [
    "# =========================\n",
    "# 4. 计算模型大小\n",
    "# =========================\n",
    "size_in_mb = os.path.getsize(MODEL_PATH) / (1024 * 1024)\n",
    "print(f\"\\n=== 模型大小 ===\")\n",
    "print(f\"Model Size: {size_in_mb:.2f} MB\")"
   ]
  },
  {
   "cell_type": "code",
   "execution_count": 17,
   "id": "1c5caa99-6aa0-46df-990e-6d354d3eb5c0",
   "metadata": {},
   "outputs": [
    {
     "ename": "AttributeError",
     "evalue": "module 'tensorflow._api.v2.profiler.experimental' has no attribute 'ProfileOptionBuilder'",
     "output_type": "error",
     "traceback": [
      "\u001b[1;31m---------------------------------------------------------------------------\u001b[0m",
      "\u001b[1;31mAttributeError\u001b[0m                            Traceback (most recent call last)",
      "Cell \u001b[1;32mIn[17], line 18\u001b[0m\n\u001b[0;32m     15\u001b[0m     flops \u001b[38;5;241m=\u001b[39m tf\u001b[38;5;241m.\u001b[39mprofiler\u001b[38;5;241m.\u001b[39mexperimental\u001b[38;5;241m.\u001b[39mProfileOptionBuilder\u001b[38;5;241m.\u001b[39mfloat_operation()\n\u001b[0;32m     16\u001b[0m     \u001b[38;5;28;01mreturn\u001b[39;00m tf\u001b[38;5;241m.\u001b[39mprofiler\u001b[38;5;241m.\u001b[39mprofile(frozen_graph, options\u001b[38;5;241m=\u001b[39mflops)\u001b[38;5;241m.\u001b[39mtotal_float_ops\n\u001b[1;32m---> 18\u001b[0m flops \u001b[38;5;241m=\u001b[39m get_flops(model) \u001b[38;5;241m/\u001b[39m \u001b[38;5;241m1e9\u001b[39m  \u001b[38;5;66;03m# 转换为 GFLOPs\u001b[39;00m\n\u001b[0;32m     19\u001b[0m \u001b[38;5;28mprint\u001b[39m(\u001b[38;5;124mf\u001b[39m\u001b[38;5;124m\"\u001b[39m\u001b[38;5;130;01m\\n\u001b[39;00m\u001b[38;5;124m=== 计算量 (FLOPs) ===\u001b[39m\u001b[38;5;124m\"\u001b[39m)\n\u001b[0;32m     20\u001b[0m \u001b[38;5;28mprint\u001b[39m(\u001b[38;5;124mf\u001b[39m\u001b[38;5;124m\"\u001b[39m\u001b[38;5;124mModel FLOPs: \u001b[39m\u001b[38;5;132;01m{\u001b[39;00mflops\u001b[38;5;132;01m:\u001b[39;00m\u001b[38;5;124m.2f\u001b[39m\u001b[38;5;132;01m}\u001b[39;00m\u001b[38;5;124m GFLOPs\u001b[39m\u001b[38;5;124m\"\u001b[39m)\n",
      "Cell \u001b[1;32mIn[17], line 15\u001b[0m, in \u001b[0;36mget_flops\u001b[1;34m(model)\u001b[0m\n\u001b[0;32m     12\u001b[0m frozen_func \u001b[38;5;241m=\u001b[39m convert_variables_to_constants_v2(concrete_func)\n\u001b[0;32m     13\u001b[0m frozen_graph \u001b[38;5;241m=\u001b[39m frozen_func\u001b[38;5;241m.\u001b[39mgraph\n\u001b[1;32m---> 15\u001b[0m flops \u001b[38;5;241m=\u001b[39m tf\u001b[38;5;241m.\u001b[39mprofiler\u001b[38;5;241m.\u001b[39mexperimental\u001b[38;5;241m.\u001b[39mProfileOptionBuilder\u001b[38;5;241m.\u001b[39mfloat_operation()\n\u001b[0;32m     16\u001b[0m \u001b[38;5;28;01mreturn\u001b[39;00m tf\u001b[38;5;241m.\u001b[39mprofiler\u001b[38;5;241m.\u001b[39mprofile(frozen_graph, options\u001b[38;5;241m=\u001b[39mflops)\u001b[38;5;241m.\u001b[39mtotal_float_ops\n",
      "\u001b[1;31mAttributeError\u001b[0m: module 'tensorflow._api.v2.profiler.experimental' has no attribute 'ProfileOptionBuilder'"
     ]
    }
   ],
   "source": [
    "# from tensorflow.python.framework.convert_to_constants import convert_variables_to_constants_v2\n",
    "\n",
    "# # =========================\n",
    "# # 5. 计算 FLOPs（计算量）\n",
    "# # =========================\n",
    "# def get_flops(model):\n",
    "#     concrete_func = tf.function(lambda x: model(x))\n",
    "#     concrete_func = concrete_func.get_concrete_function(\n",
    "#         tf.TensorSpec([1, 224, 224, 3], tf.float32)\n",
    "#     )\n",
    "\n",
    "#     frozen_func = convert_variables_to_constants_v2(concrete_func)\n",
    "#     frozen_graph = frozen_func.graph\n",
    "\n",
    "#     flops = tf.profiler.experimental.ProfileOptionBuilder.float_operation()\n",
    "#     return tf.profiler.profile(frozen_graph, options=flops).total_float_ops\n",
    "\n",
    "# flops = get_flops(model) / 1e9  # 转换为 GFLOPs\n",
    "# print(f\"\\n=== 计算量 (FLOPs) ===\")\n",
    "# print(f\"Model FLOPs: {flops:.2f} GFLOPs\")"
   ]
  },
  {
   "cell_type": "code",
   "execution_count": 18,
   "id": "5a14dd94-2435-4de8-8a0f-e8dd5ab5ef3f",
   "metadata": {},
   "outputs": [
    {
     "name": "stdout",
     "output_type": "stream",
     "text": [
      "\u001b[1m1/1\u001b[0m \u001b[32m━━━━━━━━━━━━━━━━━━━━\u001b[0m\u001b[37m\u001b[0m \u001b[1m0s\u001b[0m 329ms/step\n",
      "\n",
      "=== 推理时间 (Inference Time) ===\n",
      "Inference Time: 388.36 ms per image\n"
     ]
    }
   ],
   "source": [
    "# =========================\n",
    "# 6. 计算推理时间\n",
    "# =========================\n",
    "img_path = test_gen.filepaths[0]  # 选择一张测试图片\n",
    "img = load_img(img_path, target_size=(224, 224))\n",
    "img_array = img_to_array(img) / 255.0\n",
    "img_array = np.expand_dims(img_array, axis=0)\n",
    "\n",
    "start_time = time.time()\n",
    "predictions = model.predict(img_array)\n",
    "end_time = time.time()\n",
    "inference_time = (end_time - start_time) * 1000  # 转换为毫秒\n",
    "print(f\"\\n=== 推理时间 (Inference Time) ===\")\n",
    "print(f\"Inference Time: {inference_time:.2f} ms per image\")"
   ]
  },
  {
   "cell_type": "code",
   "execution_count": 19,
   "id": "edbdc498-9e60-4223-9d42-455c905a9ceb",
   "metadata": {},
   "outputs": [
    {
     "ename": "NameError",
     "evalue": "name 'flops' is not defined",
     "output_type": "error",
     "traceback": [
      "\u001b[1;31m---------------------------------------------------------------------------\u001b[0m",
      "\u001b[1;31mNameError\u001b[0m                                 Traceback (most recent call last)",
      "Cell \u001b[1;32mIn[19], line 19\u001b[0m\n\u001b[0;32m     16\u001b[0m f\u001b[38;5;241m.\u001b[39mwrite(\u001b[38;5;124mf\u001b[39m\u001b[38;5;124m\"\u001b[39m\u001b[38;5;124mModel Size: \u001b[39m\u001b[38;5;132;01m{\u001b[39;00msize_in_mb\u001b[38;5;132;01m:\u001b[39;00m\u001b[38;5;124m.2f\u001b[39m\u001b[38;5;132;01m}\u001b[39;00m\u001b[38;5;124m MB\u001b[39m\u001b[38;5;130;01m\\n\u001b[39;00m\u001b[38;5;130;01m\\n\u001b[39;00m\u001b[38;5;124m\"\u001b[39m)\n\u001b[0;32m     18\u001b[0m f\u001b[38;5;241m.\u001b[39mwrite(\u001b[38;5;124m\"\u001b[39m\u001b[38;5;124m=== 计算量 (FLOPs) ===\u001b[39m\u001b[38;5;130;01m\\n\u001b[39;00m\u001b[38;5;124m\"\u001b[39m)\n\u001b[1;32m---> 19\u001b[0m f\u001b[38;5;241m.\u001b[39mwrite(\u001b[38;5;124mf\u001b[39m\u001b[38;5;124m\"\u001b[39m\u001b[38;5;124mModel FLOPs: \u001b[39m\u001b[38;5;132;01m{\u001b[39;00mflops\u001b[38;5;132;01m:\u001b[39;00m\u001b[38;5;124m.2f\u001b[39m\u001b[38;5;132;01m}\u001b[39;00m\u001b[38;5;124m GFLOPs\u001b[39m\u001b[38;5;130;01m\\n\u001b[39;00m\u001b[38;5;130;01m\\n\u001b[39;00m\u001b[38;5;124m\"\u001b[39m)\n\u001b[0;32m     21\u001b[0m f\u001b[38;5;241m.\u001b[39mwrite(\u001b[38;5;124m\"\u001b[39m\u001b[38;5;124m=== 推理时间 (Inference Time) ===\u001b[39m\u001b[38;5;130;01m\\n\u001b[39;00m\u001b[38;5;124m\"\u001b[39m)\n\u001b[0;32m     22\u001b[0m f\u001b[38;5;241m.\u001b[39mwrite(\u001b[38;5;124mf\u001b[39m\u001b[38;5;124m\"\u001b[39m\u001b[38;5;124mInference Time: \u001b[39m\u001b[38;5;132;01m{\u001b[39;00minference_time\u001b[38;5;132;01m:\u001b[39;00m\u001b[38;5;124m.2f\u001b[39m\u001b[38;5;132;01m}\u001b[39;00m\u001b[38;5;124m ms per image\u001b[39m\u001b[38;5;130;01m\\n\u001b[39;00m\u001b[38;5;130;01m\\n\u001b[39;00m\u001b[38;5;124m\"\u001b[39m)\n",
      "\u001b[1;31mNameError\u001b[0m: name 'flops' is not defined"
     ]
    }
   ],
   "source": [
    "# =========================\n",
    "# 7. 结果保存\n",
    "# =========================\n",
    "with open(\"model_analysis_results.txt\", \"w\") as f:\n",
    "    f.write(\"=== 模型分类性能 ===\\n\")\n",
    "    f.write(f\"准确率 (Accuracy): {accuracy:.4f}\\n\")\n",
    "    f.write(f\"精确率 (Precision): {precision:.4f}\\n\")\n",
    "    f.write(f\"召回率 (Recall): {recall:.4f}\\n\")\n",
    "    f.write(f\"F1 分数 (F1-score): {f1:.4f}\\n\\n\")\n",
    "\n",
    "    f.write(\"=== 详细分类报告 ===\\n\")\n",
    "    f.write(classification_report(y_true, y_pred, target_names=test_gen.class_indices.keys()))\n",
    "    f.write(\"\\n\")\n",
    "\n",
    "    f.write(\"=== 模型大小 ===\\n\")\n",
    "    f.write(f\"Model Size: {size_in_mb:.2f} MB\\n\\n\")\n",
    "\n",
    "    # f.write(\"=== 计算量 (FLOPs) ===\\n\")\n",
    "    # f.write(f\"Model FLOPs: {flops:.2f} GFLOPs\\n\\n\")\n",
    "\n",
    "    f.write(\"=== 推理时间 (Inference Time) ===\\n\")\n",
    "    f.write(f\"Inference Time: {inference_time:.2f} ms per image\\n\\n\")\n",
    "\n",
    "print(\"\\n所有分析数据已完成，并已保存至 `model_analysis_results.txt` 文件。\")\n"
   ]
  }
 ],
 "metadata": {
  "kernelspec": {
   "display_name": "Python 3 (ipykernel)",
   "language": "python",
   "name": "python3"
  },
  "language_info": {
   "codemirror_mode": {
    "name": "ipython",
    "version": 3
   },
   "file_extension": ".py",
   "mimetype": "text/x-python",
   "name": "python",
   "nbconvert_exporter": "python",
   "pygments_lexer": "ipython3",
   "version": "3.12.3"
  }
 },
 "nbformat": 4,
 "nbformat_minor": 5
}
